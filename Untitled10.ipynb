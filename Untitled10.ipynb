{
  "nbformat": 4,
  "nbformat_minor": 0,
  "metadata": {
    "colab": {
      "provenance": [],
      "authorship_tag": "ABX9TyMhfWaLRvMhGQgEqt1ekl7y"
    },
    "kernelspec": {
      "name": "python3",
      "display_name": "Python 3"
    },
    "language_info": {
      "name": "python"
    }
  },
  "cells": [
    {
      "cell_type": "code",
      "source": [
        "def read_and_modify_file():\n",
        "    # Ask user for the filename\n",
        "    filename = input(\"Enter the name of the file to read: \")\n",
        "\n",
        "    try:\n",
        "        # Try to open and read the file\n",
        "        with open(filename, \"r\") as file:\n",
        "            content = file.read()\n",
        "\n",
        "        # Modify the content (e.g., convert to uppercase)\n",
        "        modified_content = content.upper()\n",
        "\n",
        "        # Write to a new file\n",
        "        new_filename = \"modified_\" + filename\n",
        "        with open(new_filename, \"w\") as new_file:\n",
        "            new_file.write(modified_content)\n",
        "\n",
        "        print(f\"Modified content written to '{new_filename}' successfully!\")\n",
        "\n",
        "    except FileNotFoundError:\n",
        "        print(f\"Error: The file '{filename}' does not exist.\")\n",
        "    except IOError:\n",
        "        print(f\"Error: Could not read the file '{filename}'.\")\n",
        "\n",
        "# Run the function\n",
        "read_and_modify_file()\n"
      ],
      "metadata": {
        "colab": {
          "base_uri": "https://localhost:8080/"
        },
        "id": "w7eyuk4A1ECh",
        "outputId": "2c1ada3b-a295-4ed5-863a-5961dfe1cde8"
      },
      "execution_count": 11,
      "outputs": [
        {
          "output_type": "stream",
          "name": "stdout",
          "text": [
            "Enter the name of the file to read: mnist_test.csv\n",
            "Error: The file 'mnist_test.csv' does not exist.\n"
          ]
        }
      ]
    }
  ]
}