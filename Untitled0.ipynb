{
  "nbformat": 4,
  "nbformat_minor": 0,
  "metadata": {
    "colab": {
      "provenance": [],
      "authorship_tag": "ABX9TyNp22+AgRyzzZiU9TJDh0iX"
    },
    "kernelspec": {
      "name": "python3",
      "display_name": "Python 3"
    },
    "language_info": {
      "name": "python"
    }
  },
  "cells": [
    {
      "cell_type": "code",
      "source": [
        "# Define the Pet class\n",
        "class Pet:\n",
        "    def __init__(self, name):\n",
        "        self.name = name\n",
        "        self.hunger = 5\n",
        "        self.energy = 5\n",
        "        self.happiness = 5\n",
        "        self.tricks = []\n",
        "\n",
        "    def eat(self):\n",
        "        self.hunger = max(0, self.hunger - 3)\n",
        "        self.happiness = min(10, self.happiness + 1)\n",
        "        print(f\"{self.name} has eaten.\")\n",
        "\n",
        "    def sleep(self):\n",
        "        self.energy = min(10, self.energy + 5)\n",
        "        print(f\"{self.name} took a nap.\")\n",
        "\n",
        "    def play(self):\n",
        "        if self.energy >= 2:\n",
        "            self.energy -= 2\n",
        "            self.happiness = min(10, self.happiness + 2)\n",
        "            self.hunger = min(10, self.hunger + 1)\n",
        "            print(f\"{self.name} played happily!\")\n",
        "        else:\n",
        "            print(f\"{self.name} is too tired to play.\")\n",
        "\n",
        "    def train(self, trick):\n",
        "        self.tricks.append(trick)\n",
        "        print(f\"{self.name} learned a new trick: {trick}!\")\n",
        "\n",
        "    def show_tricks(self):\n",
        "        if self.tricks:\n",
        "            print(f\"{self.name} knows the following tricks: {', '.join(self.tricks)}\")\n",
        "        else:\n",
        "            print(f\"{self.name} hasn't learned any tricks yet.\")\n",
        "\n",
        "    def get_status(self):\n",
        "        print(f\"Status of {self.name}:\")\n",
        "        print(f\"Hunger: {self.hunger}/10\")\n",
        "        print(f\"Energy: {self.energy}/10\")\n",
        "        print(f\"Happiness: {self.happiness}/10\")\n",
        "\n",
        "# Create a pet instance and test it\n",
        "my_pet = Pet(\"Buddy\")\n",
        "\n",
        "my_pet.get_status()\n",
        "my_pet.eat()\n",
        "my_pet.sleep()\n",
        "my_pet.play()\n",
        "my_pet.train(\"sit\")\n",
        "my_pet.train(\"roll over\")\n",
        "my_pet.get_status()\n",
        "my_pet.show_tricks()\n"
      ],
      "metadata": {
        "colab": {
          "base_uri": "https://localhost:8080/"
        },
        "id": "-QImUIdwbPRX",
        "outputId": "4b29db21-19ed-4a7e-fedd-41a04fe216b9"
      },
      "execution_count": 3,
      "outputs": [
        {
          "output_type": "stream",
          "name": "stdout",
          "text": [
            "Status of Buddy:\n",
            "Hunger: 5/10\n",
            "Energy: 5/10\n",
            "Happiness: 5/10\n",
            "Buddy has eaten.\n",
            "Buddy took a nap.\n",
            "Buddy played happily!\n",
            "Buddy learned a new trick: sit!\n",
            "Buddy learned a new trick: roll over!\n",
            "Status of Buddy:\n",
            "Hunger: 3/10\n",
            "Energy: 8/10\n",
            "Happiness: 8/10\n",
            "Buddy knows the following tricks: sit, roll over\n"
          ]
        }
      ]
    }
  ]
}