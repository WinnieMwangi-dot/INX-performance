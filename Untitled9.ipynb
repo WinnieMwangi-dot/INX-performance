{
  "nbformat": 4,
  "nbformat_minor": 0,
  "metadata": {
    "colab": {
      "provenance": [],
      "authorship_tag": "ABX9TyNeeHBxpD06peDFJKAIydFM"
    },
    "kernelspec": {
      "name": "python3",
      "display_name": "Python 3"
    },
    "language_info": {
      "name": "python"
    }
  },
  "cells": [
    {
      "cell_type": "code",
      "execution_count": 1,
      "metadata": {
        "id": "pUG5BDOdyEpE"
      },
      "outputs": [],
      "source": [
        "# Define the function to calculate discounted price\n",
        "def calculate_discount(price, discount_percent):\n",
        "    if discount_percent >= 20:\n",
        "        discount_amount = price * (discount_percent / 100)\n",
        "        final_price = price - discount_amount\n",
        "        return final_price\n",
        "    else:\n",
        "        return price\n",
        "\n"
      ]
    },
    {
      "cell_type": "code",
      "source": [
        "# Prompt the user to enter the original price and discount percentage\n",
        "try:\n",
        "    original_price = float(input(\"Enter the original price of the item: \"))\n",
        "    discount_percent = float(input(\"Enter the discount percentage: \"))\n",
        "\n",
        "    # Calculate the final price\n",
        "    final_price = calculate_discount(original_price, discount_percent)\n",
        "\n",
        "    # Print the result\n",
        "    if discount_percent >= 20:\n",
        "        print(f\"Discount applied. Final price: ${final_price:.2f}\")\n",
        "    else:\n",
        "        print(f\"No discount applied. Final price: ${final_price:.2f}\")\n",
        "except ValueError:\n",
        "    print(\"Invalid input. Please enter numeric values for price and discount.\")\n"
      ],
      "metadata": {
        "colab": {
          "base_uri": "https://localhost:8080/"
        },
        "id": "9xPBDkgSyNjF",
        "outputId": "307558ca-ff85-4ffe-8a65-ce38130bd3cd"
      },
      "execution_count": 2,
      "outputs": [
        {
          "output_type": "stream",
          "name": "stdout",
          "text": [
            "Enter the original price of the item: 200\n",
            "Enter the discount percentage: 25\n",
            "Discount applied. Final price: $150.00\n"
          ]
        }
      ]
    }
  ]
}