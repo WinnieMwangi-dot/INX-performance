{
  "nbformat": 4,
  "nbformat_minor": 0,
  "metadata": {
    "colab": {
      "provenance": [],
      "authorship_tag": "ABX9TyPYexSCzxNB+eELJ3SazMF1"
    },
    "kernelspec": {
      "name": "python3",
      "display_name": "Python 3"
    },
    "language_info": {
      "name": "python"
    }
  },
  "cells": [
    {
      "cell_type": "code",
      "execution_count": 1,
      "metadata": {
        "id": "Ya-SJ2j7w31T",
        "outputId": "7262ba27-fb78-48ff-aeb6-631ca83a7c2e",
        "colab": {
          "base_uri": "https://localhost:8080/"
        }
      },
      "outputs": [
        {
          "output_type": "stream",
          "name": "stdout",
          "text": [
            "Index of 30: 3\n",
            "Final list: [10, 15, 20, 30, 40, 50, 60]\n"
          ]
        }
      ],
      "source": [
        "# Create an empty list\n",
        "my_list = []\n",
        "\n",
        "# Append elements\n",
        "my_list.append(10)\n",
        "my_list.append(20)\n",
        "my_list.append(30)\n",
        "my_list.append(40)\n",
        "\n",
        "# Insert 15 at the second position (index 1)\n",
        "my_list.insert(1, 15)\n",
        "\n",
        "# Extend the list with [50, 60, 70]\n",
        "my_list.extend([50, 60, 70])\n",
        "\n",
        "# Remove the last element\n",
        "my_list.pop()\n",
        "\n",
        "# Sort the list in ascending order\n",
        "my_list.sort()\n",
        "\n",
        "# Find and print the index of value 30\n",
        "index_of_30 = my_list.index(30)\n",
        "print(\"Index of 30:\", index_of_30)\n",
        "\n",
        "# Optional: Print the final list\n",
        "print(\"Final list:\", my_list)\n"
      ]
    }
  ]
}